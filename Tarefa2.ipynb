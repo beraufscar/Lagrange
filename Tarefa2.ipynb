{
 "cells": [
  {
   "cell_type": "markdown",
   "metadata": {},
   "source": [
    "# TAREFA 2\n",
    "CIV 269 - 2018\n",
    "Tarefa 2\n",
    "Exercício:\n",
    "\n",
    "1)\tConsidere a função f(x) = 1/x, no intervalo de 5 ≤ x ≤ 8\n",
    "\n",
    "2)\tAtravés da interpolação de Lagrange, transforme essa função em um polinômio de grau 1 e em outro de grau 2.\n",
    "\n",
    "3)\tPara cada um desses polinômios, calcule a integral da função no intervalo dado, considerando um e dois pontos de Gauss.\n"
   ]
  },
  {
   "cell_type": "markdown",
   "metadata": {},
   "source": [
    "# ROTEIRO (E SÍNTESE) DA RESPOSTA ABAIXO:\n",
    "\n",
    "Utilizando o Jupyter Notebook (plataforma que propicia elementos de texto em conjunto à linhas de código em diversas linguagens), será desenvolvida a resposta à questão solicitada de forma que os resultados sejam dinâmicos (permitindo alterações de entradas e verificação instantânea das saídas)"
   ]
  },
  {
   "cell_type": "markdown",
   "metadata": {},
   "source": [
    "# Programa - Parte 1 - definição dos INPUTS:"
   ]
  },
  {
   "cell_type": "code",
   "execution_count": 1,
   "metadata": {},
   "outputs": [],
   "source": [
    "#inicialmente, serão carregadas as bibliotecas relevantes à este problema\n",
    "\n",
    "from sympy import  sympify, symbols, expand, integrate, preorder_traversal, Float  #bibliteca que permite manipulação e equacionamento utilizando-se de símbolos\n",
    "from sympy.plotting import plot #biblioteca utilizada para plotagens e manipulação gráfica de saídas\n",
    "from numpy import * #biblioteca que colabora na manipulação de resultados matemáticos"
   ]
  },
  {
   "cell_type": "code",
   "execution_count": 2,
   "metadata": {},
   "outputs": [],
   "source": [
    "X = symbols('X') #define X como uma incognita simbólica"
   ]
  },
  {
   "cell_type": "code",
   "execution_count": 3,
   "metadata": {},
   "outputs": [
    {
     "name": "stdout",
     "output_type": "stream",
     "text": [
      "Quantos pares serão utilizados na interpolação? (entre 2 e 6):3\n"
     ]
    }
   ],
   "source": [
    "#definir o número de pares a ser utilizado na interpolação\n",
    "n = int(input('Quantos pares serão utilizados na interpolação? (entre 2 e 6):'))\n",
    "while n>6 or n<2:\n",
    "    n = int(input('ATENÇÃO! digitar um número entre 2 e 6:'))"
   ]
  },
  {
   "cell_type": "code",
   "execution_count": 4,
   "metadata": {
    "scrolled": true
   },
   "outputs": [
    {
     "name": "stdout",
     "output_type": "stream",
     "text": [
      "Entrar com a equação a se avaliar (digite EQ) ou os valores de Y (digite Y)EQ\n",
      "A opção escolhida foi EQ\n"
     ]
    }
   ],
   "source": [
    "#define se os Y's serão calculados a partir de uma função ou inseridos manualmente\n",
    "EQouY = str(input('Entrar com a equação a se avaliar (digite EQ) ou os valores de Y (digite Y)'))\n",
    "while EQouY != \"Y\" and EQouY != \"EQ\":\n",
    "    EQouY = input('ATENÇÃO! digitar EQ ou Y!')\n",
    "print(\"A opção escolhida foi \"+EQouY)"
   ]
  },
  {
   "cell_type": "code",
   "execution_count": 5,
   "metadata": {},
   "outputs": [
    {
     "name": "stdout",
     "output_type": "stream",
     "text": [
      "entre com a formula em termos de X(maiúsculo):1/X\n",
      "Entre com o valor de x0:5\n",
      "O valor de y0 é 0.2\n",
      "Entre com o valor de x1:6\n",
      "O valor de y1 é 0.16666666666666666\n",
      "Entre com o valor de x2:8\n",
      "O valor de y2 é 0.125\n"
     ]
    }
   ],
   "source": [
    "#caso seja inserção de função:\n",
    "if EQouY == str(\"EQ\"):\n",
    "    formula = input(\"entre com a formula em termos de X(maiúsculo):\")\n",
    "    S=0\n",
    "    x=list(range(0))\n",
    "    y=list(range(0))\n",
    "    X=0\n",
    "    while S < n:\n",
    "        valorA=input(\"Entre com o valor de x\"+str(S)+\":\")\n",
    "        x.insert(S, float(valorA))\n",
    "        X=x[S]\n",
    "        valorB=eval (formula)        \n",
    "        y.insert(S,float(valorB)) \n",
    "        print(\"O valor de y\"+ str(S) + \" é \" + str(y[S]))\n",
    "        S = S+1\n",
    "    while S<6:\n",
    "        x.insert(S, float(S*1000))\n",
    "        y.insert(S, float(0)) \n",
    "        S=(S+1)               "
   ]
  },
  {
   "cell_type": "code",
   "execution_count": 6,
   "metadata": {},
   "outputs": [],
   "source": [
    "#caso seja inserção direta dos Y's:\n",
    "if EQouY == str(\"Y\"):\n",
    "    S=0\n",
    "    x=list(range(0))\n",
    "    y=list(range(0))\n",
    "    X=0\n",
    "    while (S < n):\n",
    "        valorA=input(\"Entre com o valor de x\"+str(S)+\":\")\n",
    "        x.insert(S, float(valorA))\n",
    "        X=x[S]\n",
    "        valorB=input(\"Entre com o valor de y\"+str(S)+\":\")\n",
    "        y.insert(S,float(valorB)) \n",
    "        S=(S+1)           \n",
    "    while n<6:\n",
    "        x.insert(S, float(S*1020))     #esta linha faz uma \"gambiarra\" para poder manter 6 graus, sera desfeita após o cálculo dos \"L\"\n",
    "        X=x[S]                                 \n",
    "        y.insert(S, float(0)) \n",
    "        S=(S+1)               \n",
    "    print (\"os valores de x: \" +str(x))\n",
    "    print (\"os valores de y: \" +str(y))"
   ]
  },
  {
   "cell_type": "markdown",
   "metadata": {},
   "source": [
    "# Programa - Parte 2 - cálculo dos operadores Lagrangeanos e resolução da eq. Interpoladora"
   ]
  },
  {
   "cell_type": "code",
   "execution_count": 7,
   "metadata": {},
   "outputs": [
    {
     "name": "stdout",
     "output_type": "stream",
     "text": [
      "A função interpoladora lagrangeana: F(X)= 0.00416666666666667*X**2 - 0.0791666666666666*X + 0.491666666666667\n"
     ]
    }
   ],
   "source": [
    "#Cálculo dos Operadores Lagrangeanos:\n",
    "\n",
    "L=[]\n",
    "X=symbols(\"X\")\n",
    "Lb0=[((X-x[1])/(x[0]-x[1])), ((X-x[2])/(x[0]-x[2])), ((X-x[3])/(x[0]-x[3])), ((X-x[4])/(x[0]-x[4])), ((X-x[5])/(x[0]-x[5]))]\n",
    "Lb1=[((X-x[0])/(x[1]-x[0])), ((X-x[2])/(x[1]-x[2])), ((X-x[3])/(x[1]-x[3])), ((X-x[4])/(x[1]-x[4])), ((X-x[5])/(x[1]-x[5]))]\n",
    "Lb2=[((X-x[0])/(x[2]-x[0])), ((X-x[1])/(x[2]-x[1])), ((X-x[3])/(x[2]-x[3])), ((X-x[4])/(x[2]-x[4])), ((X-x[5])/(x[2]-x[5]))]\n",
    "Lb3=[((X-x[0])/(x[3]-x[0])), ((X-x[1])/(x[3]-x[1])), ((X-x[2])/(x[3]-x[2])), ((X-x[4])/(x[3]-x[4])), ((X-x[5])/(x[3]-x[5]))]\n",
    "Lb4=[((X-x[0])/(x[4]-x[0])), ((X-x[1])/(x[4]-x[1])), ((X-x[2])/(x[4]-x[2])), ((X-x[3])/(x[4]-x[3])), ((X-x[5])/(x[4]-x[5]))]\n",
    "Lb5=[((X-x[0])/(x[5]-x[0])), ((X-x[1])/(x[5]-x[1])), ((X-x[2])/(x[5]-x[2])), ((X-x[3])/(x[5]-x[3])), ((X-x[4])/(x[5]-x[4]))]\n",
    "\n",
    "L.insert(0, (Lb0[:(n-1)]))\n",
    "L[0]=prod(array(L[0]))\n",
    "L.insert(1, (Lb1[:(n-1)]))\n",
    "L[1]=prod(array(L[1]))        \n",
    "L.insert(2, (Lb2[:(n-1)]))\n",
    "L[2]=prod(array(L[2]))    \n",
    "L.insert(3, (Lb3[:(n-1)]))\n",
    "L[3]=prod(array(L[3]))    \n",
    "L.insert(4, (Lb4[:(n-1)]))\n",
    "L[4]=prod(array(L[4]))    \n",
    "L.insert(5, (Lb5[:(n-1)]))\n",
    "L[5]=prod(array(L[5]))    \n",
    "\n",
    "F0= expand(L[0]*y[0])\n",
    "F1= expand(L[1]*y[1])\n",
    "F2= expand(L[2]*y[2])\n",
    "F3= expand(L[3]*y[3])\n",
    "F4= expand(L[4]*y[4])\n",
    "F5= expand(L[5]*y[5])\n",
    "F= sympify(F0+F1+F2+F3+F4+F5)\n",
    "\n",
    "\n",
    "#Apresentação da função interpoladora\n",
    "\n",
    "if 'inf' in str(F):\n",
    "    print(\"ERRO! Resultado tende ao infinito, não foi possível interpolar, verifique as entradas\")\n",
    "elif 'nan' in str(F):\n",
    "    print(\"ERRO! Não foi possível interpolar, verifique as entradas\")\n",
    "else:\n",
    "    print (\"A função interpoladora lagrangeana: F(X)= \"+ str(F))"
   ]
  },
  {
   "cell_type": "code",
   "execution_count": 8,
   "metadata": {},
   "outputs": [
    {
     "name": "stdout",
     "output_type": "stream",
     "text": [
      "Defina a precisão almejada:3\n",
      "A função interpoladora lagrangeana para a precisão de 3 é F(X)= 0.004*X**2 - 0.079*X + 0.492\n"
     ]
    }
   ],
   "source": [
    "#definir arredondamento e apresentar função arredondada:\n",
    "\n",
    "m= int(input(\"Defina a precisão almejada:\"))\n",
    "F_arredondada = F\n",
    "for a in preorder_traversal(F):\n",
    "    if isinstance(a, Float):\n",
    "        F_arredondada = F_arredondada.subs(a, round(a, m))     \n",
    "print(\"A função interpoladora lagrangeana para a precisão de \"+str(m)+ \" é F(X)= \"+ str(F_arredondada))\n",
    "\n",
    "S=5\n",
    "while S>=n:\n",
    "    x[S]=0\n",
    "    y[S]=0\n",
    "    S=S-1"
   ]
  },
  {
   "cell_type": "markdown",
   "metadata": {},
   "source": [
    "# GRÁFICOS DAS FUNÇÕES"
   ]
  },
  {
   "cell_type": "code",
   "execution_count": 16,
   "metadata": {},
   "outputs": [
    {
     "data": {
      "image/png": "[encoded data removed]",
      "text/plain": [
       "<Figure size 432x288 with 1 Axes>"
      ]
     },
     "metadata": {},
     "output_type": "display_data"
    }
   ],
   "source": [
    "#GRAFICO DA FUNÇÃO INTERPOLADORA\n",
    "\n",
    "s = plot(F, (x, min(x),max(x)),(y, min(y),max(y)), show=False)\n",
    "s.title = 'Gráfico da Equação Interpoladora'\n",
    "s.axis_center=(0,0)\n",
    "s.autoscale=True\n",
    "s.show() "
   ]
  },
  {
   "cell_type": "code",
   "execution_count": 10,
   "metadata": {},
   "outputs": [
    {
     "data": {
      "image/png": "[encoded data removed]",
      "text/plain": [
       "<Figure size 432x288 with 1 Axes>"
      ]
     },
     "metadata": {},
     "output_type": "display_data"
    }
   ],
   "source": [
    "#GRAFICO DA FUNÇÃO ORIGINAL \n",
    "#CASO TENHA SIDO UTILIZADA A ENTRADA DE EQUAÇÃO, CASO CONTRÁRIO NÃO HÁ NADA PARA MOSTRAR AQUI\n",
    "\n",
    "if EQouY == str(\"Y\"):\n",
    "   pass\n",
    "\n",
    "else:\n",
    "   s = plot(formula, (X, min(x),max(x)),(y, min(y),max(y)), show=False)\n",
    "   s[0].line_color='r'\n",
    "   s.title = 'Gráfico da Função Original'\n",
    "   s.axis_center=(0,0)\n",
    "   s.autoscale=True\n",
    "   s.show()           \n"
   ]
  },
  {
   "cell_type": "code",
   "execution_count": 11,
   "metadata": {},
   "outputs": [
    {
     "data": {
      "image/png": "[encoded data removed]",
      "text/plain": [
       "<Figure size 432x288 with 1 Axes>"
      ]
     },
     "metadata": {},
     "output_type": "display_data"
    }
   ],
   "source": [
    " #GRAFICO DAS FUNÇÕES SOBREPOSTAS:\n",
    "    \n",
    "\n",
    "s = plot(F, formula, (X, min(x),max(x)),(y, min(y),max(y)), show=False)   \n",
    "s[1].line_color='r'\n",
    "s.title = 'Gráficos Sobrepostos'\n",
    "s.axis_center=(0,0)\n",
    "s.autoscale=True\n",
    "s.show()\n"
   ]
  },
  {
   "cell_type": "markdown",
   "metadata": {},
   "source": [
    "# CÁLCULO DAS INTEGRAIS\n"
   ]
  },
  {
   "cell_type": "code",
   "execution_count": 12,
   "metadata": {},
   "outputs": [
    {
     "name": "stdout",
     "output_type": "stream",
     "text": [
      "A integral indefinida é: log(X)\n"
     ]
    }
   ],
   "source": [
    "# INTEGRAL INDEFINIDA DA FORMULA ORIGINAL\n",
    "\n",
    "integral = integrate(formula, X)\n",
    "\n",
    "if 'inf' in str(integral):\n",
    "    print(\"ERRO! Não foi possível interpolar, verifique as entradas\")\n",
    "elif 'nan' in str(integral):\n",
    "    print(\"ERRO! Não foi possível interpolar, verifique as entradas\")\n",
    "else:\n",
    "    print(\"A integral indefinida é: \"+str(integral))\n",
    "\n"
   ]
  },
  {
   "cell_type": "code",
   "execution_count": 33,
   "metadata": {},
   "outputs": [
    {
     "name": "stdout",
     "output_type": "stream",
     "text": [
      "A integral definida de 1/X entre os valores 5.0 e 8.0 é: 0.47\n"
     ]
    }
   ],
   "source": [
    " ## INTEGRAL DEFINIDA DA FORMULA ORIGINAL\n",
    "    \n",
    "xa = x[0:n]\n",
    "integral = integrate(formula, (X, min(xa), max(xa)))\n",
    "\n",
    "if 'inf' in str(integral):\n",
    "    print(\"ERRO! Não foi possível interpolar, verifique as entradas\")\n",
    "elif 'nan' in str(integral):\n",
    "    print(\"ERRO! Não foi possível interpolar, verifique as entradas\")\n",
    "else:\n",
    "    print(\"A integral definida de \" + str(formula)+ \" entre os valores \"+ str(min(xa)) + \" e \" + str(max(xa)) +\" é: \" +str(round(integral,4)))\n"
   ]
  },
  {
   "cell_type": "code",
   "execution_count": 14,
   "metadata": {},
   "outputs": [
    {
     "name": "stdout",
     "output_type": "stream",
     "text": [
      "0.0014*X**3 - 0.0396*X**2 + 0.4917*X\n"
     ]
    }
   ],
   "source": [
    " ## INTEGRAL INDEFINIDA DA FUNÇÃO INTERPOLADORA\n",
    "\n",
    "integral = integrate(F, X)\n",
    "\n",
    "if 'inf' in str(integral):\n",
    "    print(\"ERRO! Não foi possível interpolar, verifique as entradas\")\n",
    "elif 'nan' in str(integral):\n",
    "    print(\"ERRO! Não foi possível interpolar, verifique as entradas\")\n",
    "else:\n",
    "    int_arredondada = integral\n",
    "    for a in preorder_traversal(integral):\n",
    "        if isinstance(a, Float):\n",
    "            int_arredondada = int_arredondada.subs(a, round(a, 4))\n",
    "    print(str(int_arredondada))\n",
    "  "
   ]
  },
  {
   "cell_type": "code",
   "execution_count": 26,
   "metadata": {},
   "outputs": [
    {
     "name": "stdout",
     "output_type": "stream",
     "text": [
      "A integral definida de 0.004*X**2 - 0.079*X + 0.492 entre os valores 5.0 e 8.0 é: 0.4688\n"
     ]
    }
   ],
   "source": [
    "## INTEGRAL DEFINIDA DA FUNÇÃO INTERPOLADORA   \n",
    "\n",
    "xa = x[0:n]\n",
    "integral = integrate(F, (X, min(xa), max(xa)))\n",
    "\n",
    "if 'inf' in str(integral):\n",
    "    print(\"ERRO! Não foi possível interpolar, verifique as entradas\")\n",
    "elif 'nan' in str(integral):\n",
    "    print(\"ERRO! Não foi possível interpolar, verifique as entradas\")\n",
    "else:\n",
    "    print(\"A integral definida de \" + str(F_arredondada) + \" entre os valores \" + str(min(xa)) + \" e \" + str(max(xa)) + \" é: \" + str(round(integral,4)))"
   ]
  },
  {
   "cell_type": "code",
   "execution_count": null,
   "metadata": {},
   "outputs": [],
   "source": []
  }
 ],
 "metadata": {
  "kernelspec": {
   "display_name": "Python 3",
   "language": "python",
   "name": "python3"
  },
  "language_info": {
   "codemirror_mode": {
    "name": "ipython",
    "version": 3
   },
   "file_extension": ".py",
   "mimetype": "text/x-python",
   "name": "python",
   "nbconvert_exporter": "python",
   "pygments_lexer": "ipython3",
   "version": "3.6.4"
  }
 },
 "nbformat": 4,
 "nbformat_minor": 2
}
